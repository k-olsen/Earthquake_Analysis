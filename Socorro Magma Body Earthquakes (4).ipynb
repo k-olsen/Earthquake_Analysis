{
 "cells": [
  {
   "cell_type": "markdown",
   "metadata": {},
   "source": [
    "# Earthquake Lab"
   ]
  },
  {
   "cell_type": "markdown",
   "metadata": {},
   "source": [
    "IMPORTANT!\n",
    "\n",
    "PLEASE NOTE: This notebook is running remotely, and will time out after ~30 minutes of inactivity and your work will be lost. When you finish this lab, or want to take a break DOWNLOAD THIS FILE SO THAT YOUR WORK IS SAVED. \n",
    "\n",
    "Download as follows:\n",
    "\n",
    "Under the File menu in the upper left select 'Download as', and then 'Notebook (.ipybn)'. Your file will download to your computer. A new browser window may open, which is fine (you can close it). "
   ]
  },
  {
   "cell_type": "markdown",
   "metadata": {},
   "source": [
    "## Lab introduction"
   ]
  },
  {
   "cell_type": "markdown",
   "metadata": {},
   "source": [
    "In this lab we will both gain some experience programming in Python, and explore interesting patterns of seismicity in the central part of New Mexico (where we will be next week!). \n",
    "\n"
   ]
  },
  {
   "cell_type": "markdown",
   "metadata": {},
   "source": [
    "## Becoming familiar with Python"
   ]
  },
  {
   "cell_type": "markdown",
   "metadata": {},
   "source": [
    "Programming is a way to speak with your computer, and Python is a programming \"language\" that is used by a huge number of scientists, engineers, and designers today. \n",
    "\n",
    "Here are some things to know:\n",
    "\n",
    "1) Within this Notebook you can \"run\" each cell by typing Shift + Enter.\n",
    "\n",
    "2) When a cell is running a * will appear to the left of the cell in place of the number within brackets. Some cells take a moment to run. If you see the *, hold tight. \n",
    "\n",
    "\n",
    "\n",
    "\n",
    "\n",
    "We will start by becoming familiar with some simple programming commands.\n",
    "\n",
    "\n",
    "Try placing your cursor in the cell below and typing Shift + Enter."
   ]
  },
  {
   "cell_type": "code",
   "execution_count": null,
   "metadata": {},
   "outputs": [],
   "source": [
    "print('This cell just ran correctly!')"
   ]
  },
  {
   "cell_type": "markdown",
   "metadata": {},
   "source": [
    "Now Shift + Enter to run the cell below (don't modify anything!). This sets up some code we will use later in this lab. "
   ]
  },
  {
   "cell_type": "code",
   "execution_count": null,
   "metadata": {},
   "outputs": [],
   "source": [
    "## DO NOT MODIFY ##\n",
    "# Import libraries for use later on\n",
    "%matplotlib inline\n",
    "import numpy as np\n",
    "import matplotlib.pyplot as plt\n",
    "import random\n",
    "import os\n",
    "import csv\n",
    "import datetime\n",
    "from mpl_toolkits.basemap import Basemap\n",
    "import urllib.request as urllib2\n",
    "from scipy.stats import gaussian_kde\n",
    "import pandas"
   ]
  },
  {
   "cell_type": "markdown",
   "metadata": {},
   "source": [
    "In Python, letters surrounded by 'quotes' are recognized as words. If you leave off the quotes the computer will assume the letters represent a variable, i.e., a = 6, or dog = 7. \n",
    "\n",
    "Anything that comes after the # symbol is a comment, i.e., it is not run as code, it's just a note to yourself. Feel free to add your own comments to the code throughout this lab!\n",
    "\n",
    "Now enter your names in the cell below.  "
   ]
  },
  {
   "cell_type": "code",
   "execution_count": null,
   "metadata": {},
   "outputs": [],
   "source": [
    "#Fill in your names here. Make sure names are surrounded by single quote marks, like 'so'\n",
    "P1 = 'Kira' # Person 1\n",
    "P2 = 'Tianran' # Person 2\n",
    "\n",
    "\n",
    "print('This lab is being completed by %s and %s' %(P1,P2))"
   ]
  },
  {
   "cell_type": "markdown",
   "metadata": {},
   "source": [
    "In the cell above you asigned words to the variables P1 and P2, then in the print statement you didn't have to type out the names, you could just reference the variables.\n",
    "\n",
    "Variables can be assigned to lists by using square brackets: [  ] \n",
    "\n",
    "Run the cell below."
   ]
  },
  {
   "cell_type": "code",
   "execution_count": null,
   "metadata": {},
   "outputs": [],
   "source": [
    "people = [P1,P2]\n",
    "\n",
    "print(people)\n",
    "\n",
    "rocks = ['shale','sandstone','limestone']\n",
    "\n",
    "print(rocks)"
   ]
  },
  {
   "cell_type": "markdown",
   "metadata": {},
   "source": [
    "Try one more example:"
   ]
  },
  {
   "cell_type": "code",
   "execution_count": null,
   "metadata": {},
   "outputs": [],
   "source": [
    "nouns = ['cats','schist','burritos','quartz crystals']\n",
    "numbers = [3,11,91, 4000]\n",
    "\n",
    "print('%s is most excited about the part of this lab where we learn about %s %s.' \n",
    "      %(random.choice(people),random.choice(numbers),random.choice(nouns)))"
   ]
  },
  {
   "cell_type": "markdown",
   "metadata": {},
   "source": [
    "Run the cell above another time and you should get a different sentence. "
   ]
  },
  {
   "cell_type": "markdown",
   "metadata": {},
   "source": [
    "Now we will move on to the lab. Much of the code is already written for you, but you will have a chance to write some of your own at the end. "
   ]
  },
  {
   "cell_type": "markdown",
   "metadata": {},
   "source": [
    "## Part 1) Import earthquake data and make a map\n",
    "Shift + Enter to run this cell"
   ]
  },
  {
   "cell_type": "code",
   "execution_count": 34,
   "metadata": {},
   "outputs": [],
   "source": [
    "#Import earthquake data\n",
    "eq_url = \"https://raw.githubusercontent.com/kgo2105/Earthquake_lab/master/nm_eqs.txt\" #location of text file\n",
    "response = urllib2.urlopen(eq_url)\n",
    "data = np.loadtxt(response, delimiter= '\\t') # Load in this text file, columns are seperated by tabs\n",
    "\n",
    "\n",
    "# Pull out each variable\n",
    "date = [int(row[0]) for row in data] # date is in format yyyymmdd\n",
    "lat = [float(row[1]) for row in data]\n",
    "lon = [row[2] for row in data]\n",
    "depth = [row[3] for row in data]\n",
    "mag = [row[4] for row in data]"
   ]
  },
  {
   "cell_type": "code",
   "execution_count": null,
   "metadata": {},
   "outputs": [],
   "source": [
    "# Look at data set\n",
    "data2 = pandas.DataFrame(data = data, columns = ('Date','lat','lon','depth','mag'))\n",
    "print(data2)\n"
   ]
  },
  {
   "cell_type": "markdown",
   "metadata": {},
   "source": [
    "## Import geographic data to draw map\n",
    "Shift + Enter to run the cell"
   ]
  },
  {
   "cell_type": "code",
   "execution_count": 28,
   "metadata": {},
   "outputs": [],
   "source": [
    "# Run this cell to import the topography of NM and set up the map\n",
    "topo_url = \"https://raw.githubusercontent.com/kgo2105/Earthquake_lab/master/etopo1_bedrock.txt\"\n",
    "response = urllib2.urlopen(topo_url)\n",
    "\n",
    "# Read header (number of columns and rows, cell-size, and lower left coordinates)\n",
    "ncols = int(response.readline().split()[1])\n",
    "nrows = int(response.readline().split()[1])\n",
    "xllcorner = float(response.readline().split()[1])\n",
    "yllcorner = float(response.readline().split()[1])\n",
    "cellsize = float(response.readline().split()[1])\n",
    "\n",
    "# Read in topography as a whole, disregarding first five rows (header)\n",
    "etopo = np.loadtxt(response, skiprows = 0)\n",
    "\n",
    "# Data resolution is quite high. I decrease the data resolution \n",
    "# to decrease the size of the final figure\n",
    "dres = 2\n",
    "\n",
    "# Swap the rows\n",
    "etopo[:nrows+1, :] = etopo[nrows+1::-1, :]\n",
    "etopo = etopo[::dres, ::dres]\n",
    "\n",
    "# Create longitude and latitude vectors for etopo\n",
    "lons = np.arange(xllcorner, xllcorner+cellsize*ncols, cellsize)[::dres]\n",
    "lats = np.arange(yllcorner, yllcorner+cellsize*nrows, cellsize)[::dres]"
   ]
  },
  {
   "cell_type": "markdown",
   "metadata": {
    "collapsed": true
   },
   "source": [
    "## Draw a map of New Mexico"
   ]
  },
  {
   "cell_type": "code",
   "execution_count": null,
   "metadata": {},
   "outputs": [],
   "source": [
    "# 1. Draw the map background\n",
    "fig = plt.figure(figsize=(8, 8))\n",
    "\n",
    "#not using these two lines of code\n",
    "# mapfig, myAx = plt.subplots()\n",
    "# myAx.plot([1,2,3])\n",
    "\n",
    "\n",
    "m = Basemap(llcrnrlon=-110.,llcrnrlat=31.,urcrnrlon=-102.,urcrnrlat=37.5,\\\n",
    "            resolution='l',projection='merc',\\\n",
    "            lat_0=40.,lon_0=-20.,lat_ts=20.)\n",
    "\n",
    "# Convert etopo1 coordinates lon/lat in ° to x/y in m\n",
    "# (From the basemap help: Calling a Basemap class instance with the arguments\n",
    "# lon, lat will convert lon/lat (in degrees) to x/y map projection coordinates\n",
    "# (in meters).)\n",
    "rlons, rlats = m(*np.meshgrid(lons,lats))\n",
    "\n",
    "# Draw etopo1, first for land and then for the ocean, with different colormaps\n",
    "llevels = np.arange(-100,4100,100) # check etopo.ravel().max()\n",
    "lcs = m.contourf(rlons, rlats, etopo, llevels, cmap=plt.cm.terrain)\n",
    "olevels = np.arange(-3500,1,100) # check etopo.ravel().min()\n",
    "cso = m.contourf(rlons, rlats, etopo, olevels, cmap=plt.cm.ocean)\n",
    "\n",
    "# #m.shadedrelief()\n",
    "m.drawparallels(np.arange(30,40,2),labels=[1,0,0,0], color = 'grey')\n",
    "m.drawmeridians(np.arange(-110,-102,2),labels=[0,0,0,1], color = 'grey')\n",
    "m.drawstates(color = 'black', linewidth = 2)\n",
    "m.drawcountries(color='black', linewidth = 2)\n",
    "\n",
    "# Add scale to map\n",
    "m.drawmapscale(-103, 31.5, -106, 32, 100, barstyle='simple', units='km', fontsize=9, yoffset=None, labelstyle='simple', fontcolor='k', fillcolor1='w', fillcolor2='k',format='%d')\n",
    "\n",
    "%config InlineBackend.close_figures=False # keep figures open in pyplot"
   ]
  },
  {
   "cell_type": "markdown",
   "metadata": {
    "collapsed": true
   },
   "source": [
    "## Plot earthquakes in NM on the map"
   ]
  },
  {
   "cell_type": "code",
   "execution_count": null,
   "metadata": {},
   "outputs": [],
   "source": [
    "m.scatter(lon,lat, latlon = True, s = 45, edgecolor = 'black', facecolor = 'blue')\n"
   ]
  },
  {
   "cell_type": "markdown",
   "metadata": {},
   "source": [
    "## Describe any patterns in the seismicity"
   ]
  },
  {
   "cell_type": "markdown",
   "metadata": {},
   "source": [
    "Where are there notable concentrations? Absences? Is there any relationship with topography?"
   ]
  },
  {
   "cell_type": "markdown",
   "metadata": {},
   "source": []
  },
  {
   "cell_type": "markdown",
   "metadata": {},
   "source": [
    "**Introduce SSA, add text here"
   ]
  },
  {
   "cell_type": "markdown",
   "metadata": {},
   "source": [
    "## Now plot the outline of the Socorro Seismic Anomaly"
   ]
  },
  {
   "cell_type": "code",
   "execution_count": null,
   "metadata": {},
   "outputs": [],
   "source": [
    "# Import the coordinates of the Socorro Seismic Anomaly\n",
    "ssa_url = \"https://raw.githubusercontent.com/kgo2105/Earthquake_lab/master/socorro_outline.txt\"\n",
    "response = urllib2.urlopen(ssa_url)\n",
    "ssa = np.loadtxt(response, delimiter= ',')\n",
    "\n",
    "# Coordinates of the Socorro Seismic Anomaly outline\n",
    "ssa_lat = [row[1] for row in ssa]\n",
    "ssa_lon = [row[0] for row in ssa]\n",
    "\n",
    "# Plot \n",
    "m.plot(ssa_lon,ssa_lat, latlon=True, color = 'r', linewidth = 1.5)"
   ]
  },
  {
   "cell_type": "markdown",
   "metadata": {},
   "source": [
    "There are so many earthquakes plotted on the map above that it is hard to see if there is a point in the blob of events with an especially high concentration. \n",
    "\n",
    "You can add a colorscale so that the region with the most earthquakes stacked on top of each other stands out. Run the cell below. "
   ]
  },
  {
   "cell_type": "code",
   "execution_count": null,
   "metadata": {},
   "outputs": [],
   "source": [
    "xy = np.vstack([lon,lat])\n",
    "z = gaussian_kde(xy)(xy)\n",
    "\n",
    "m.scatter(lon, lat, c = z,latlon = True, s = 45, edgecolor = 'black')\n",
    "m.plot(ssa_lon,ssa_lat, latlon=True, color = 'r', linewidth = 1.5)"
   ]
  },
  {
   "cell_type": "markdown",
   "metadata": {},
   "source": [
    "Text prompt about describing patterns..."
   ]
  },
  {
   "cell_type": "markdown",
   "metadata": {},
   "source": [
    "# Part 2) Investigate earthquake data"
   ]
  },
  {
   "cell_type": "markdown",
   "metadata": {},
   "source": [
    "## Plot the earthquakes by depth"
   ]
  },
  {
   "cell_type": "code",
   "execution_count": null,
   "metadata": {},
   "outputs": [],
   "source": [
    "plt.figure()\n",
    "plt.scatter(lon,depth, color = 'blue', edgecolor = 'black')\n",
    "plt.xlabel('Longitude')\n",
    "plt.ylabel('Depth [km]')\n",
    "plt.ylim(20,0)"
   ]
  },
  {
   "cell_type": "markdown",
   "metadata": {},
   "source": [
    "# ** Make point about data quality check"
   ]
  },
  {
   "cell_type": "markdown",
   "metadata": {},
   "source": [
    "\n",
    "Text here. Depths of 5km are not accurate, 5km is just put in when depth is unknown"
   ]
  },
  {
   "cell_type": "markdown",
   "metadata": {
    "collapsed": true
   },
   "source": [
    "Omit depths = 5 km and replot\n"
   ]
  },
  {
   "cell_type": "code",
   "execution_count": null,
   "metadata": {},
   "outputs": [],
   "source": [
    "plt.figure()\n",
    "for i in data:\n",
    "    if i[3] != 5.0: #does not equal\n",
    "        plt.scatter(i[2],i[3], color = 'blue', edgecolor = 'black')\n",
    "plt.ylabel('Depth [km]')\n",
    "plt.xlabel('Longitude')"
   ]
  },
  {
   "cell_type": "markdown",
   "metadata": {},
   "source": [
    "# Plot by date"
   ]
  },
  {
   "cell_type": "code",
   "execution_count": null,
   "metadata": {},
   "outputs": [],
   "source": [
    "# Format dates\n",
    "ymd = []\n",
    "for i in range(len(date)):\n",
    "    ymd.append(datetime.datetime.strptime(str(date[i]),'%Y%m%d'))\n",
    "\n",
    "# plot of magnitude\n",
    "plt.figure()\n",
    "plt.scatter(ymd,mag, edgecolor = 'black',color = 'blue')\n",
    "plt.ylabel('Magnitude')\n",
    "plt.xlabel('Year')"
   ]
  },
  {
   "cell_type": "markdown",
   "metadata": {},
   "source": [
    " Have students plot some new kind of scatter plot and change colors, etc."
   ]
  },
  {
   "cell_type": "code",
   "execution_count": 69,
   "metadata": {},
   "outputs": [],
   "source": [
    "date2 = []\n",
    "for i in ymd:\n",
    "    date2.append((i - min(ymd)).total_seconds())"
   ]
  },
  {
   "cell_type": "code",
   "execution_count": null,
   "metadata": {},
   "outputs": [],
   "source": [
    "# calculate point density\n",
    "plt.figure()\n",
    "xy = np.vstack([date2,mag])\n",
    "z = gaussian_kde(xy)(xy)\n",
    "plt.scatter(date2,mag, c = z, s = 50, edgecolor = '', zorder = 200)"
   ]
  },
  {
   "cell_type": "markdown",
   "metadata": {},
   "source": [
    "More TBD...."
   ]
  },
  {
   "cell_type": "code",
   "execution_count": null,
   "metadata": {},
   "outputs": [],
   "source": []
  }
 ],
 "metadata": {
  "kernelspec": {
   "display_name": "Python 3",
   "language": "python",
   "name": "python3"
  },
  "language_info": {
   "codemirror_mode": {
    "name": "ipython",
    "version": 3
   },
   "file_extension": ".py",
   "mimetype": "text/x-python",
   "name": "python",
   "nbconvert_exporter": "python",
   "pygments_lexer": "ipython3",
   "version": "3.6.5"
  }
 },
 "nbformat": 4,
 "nbformat_minor": 2
}
