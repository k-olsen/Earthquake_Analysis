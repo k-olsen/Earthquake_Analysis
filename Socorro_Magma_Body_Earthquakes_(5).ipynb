{
 "cells": [
  {
   "cell_type": "markdown",
   "metadata": {},
   "source": [
    "# Earthquake Lab"
   ]
  },
  {
   "cell_type": "markdown",
   "metadata": {},
   "source": [
    "IMPORTANT!\n",
    "\n",
    "PLEASE NOTE: This notebook is running remotely, and will time out after ~30 minutes of inactivity and your work will be lost. When you finish this lab, or want to take a break DOWNLOAD THIS FILE SO THAT YOUR WORK IS SAVED. \n",
    "\n",
    "Download as follows:\n",
    "\n",
    "Under the File menu in the upper left select 'Download as', and then 'Notebook (.ipynb)'. Your file will download to your computer. "
   ]
  },
  {
   "cell_type": "markdown",
   "metadata": {},
   "source": [
    "## Lab introduction"
   ]
  },
  {
   "cell_type": "markdown",
   "metadata": {},
   "source": [
    "In this lab we will both gain some experience programming in Python, and explore interesting patterns of seismicity in the central part of New Mexico (where we will be on our field trip!). \n",
    "\n"
   ]
  },
  {
   "cell_type": "markdown",
   "metadata": {},
   "source": [
    "## Becoming familiar with Python"
   ]
  },
  {
   "cell_type": "markdown",
   "metadata": {},
   "source": [
    "Programming is a way to speak with your computer, and Python is a programming \"language\" that is used by a large number of scientists, engineers, and designers today. \n",
    "\n",
    "Here are some things to know:\n",
    "\n",
    "1) Within this Notebook you can \"run\" each cell by typing Shift + Enter.\n",
    "\n",
    "2) When a cell is running a * will appear to the left of the cell in place of the number within brackets. Some cells take a moment to run. If you see the *, hold tight. \n",
    "\n",
    "\n",
    "\n",
    "\n",
    "\n",
    "We will start by becoming familiar with some simple programming commands.\n",
    "\n",
    "\n",
    "Try placing your cursor in the cell below and typing Shift + Enter."
   ]
  },
  {
   "cell_type": "code",
   "execution_count": null,
   "metadata": {},
   "outputs": [],
   "source": [
    "print('This cell just ran correctly!')"
   ]
  },
  {
   "cell_type": "markdown",
   "metadata": {},
   "source": [
    "Now Shift + Enter to run this cell, then read the text below"
   ]
  },
  {
   "cell_type": "code",
   "execution_count": null,
   "metadata": {},
   "outputs": [],
   "source": [
    "print('Hello, world!'"
   ]
  },
  {
   "cell_type": "markdown",
   "metadata": {},
   "source": [
    "## Error!\n",
    "All parantheses, brackets, quotes, etc. need to be closed like this: (  ) for the code to run. Fix the code in the cell above and try running it again to resolve the error. "
   ]
  },
  {
   "cell_type": "markdown",
   "metadata": {},
   "source": [
    "Now Shift + Enter to run the cell below (don't modify anything!). This sets up some code we will use later in this lab. From here on, whenever you have a cell with code in it run it by typing Shift + Enter."
   ]
  },
  {
   "cell_type": "code",
   "execution_count": 2,
   "metadata": {},
   "outputs": [],
   "source": [
    "## DO NOT MODIFY ##\n",
    "# Import libraries for use later on\n",
    "%matplotlib inline\n",
    "import numpy as np\n",
    "import matplotlib.pyplot as plt\n",
    "import random\n",
    "import os\n",
    "import csv\n",
    "import datetime\n",
    "from mpl_toolkits.basemap import Basemap\n",
    "import urllib.request as urllib2\n",
    "from scipy.stats import gaussian_kde\n",
    "import pandas\n",
    "import warnings\n",
    "import matplotlib.cbook\n",
    "warnings.filterwarnings(\"ignore\",category=matplotlib.cbook.mplDeprecation)"
   ]
  },
  {
   "cell_type": "markdown",
   "metadata": {},
   "source": [
    "In Python, letters surrounded by 'quotes' are recognized as words. If you leave off the quotes the computer will assume the letters represent a variable, i.e., a = 6, or dog = 7. \n",
    "\n",
    "Anything that comes after the # symbol is a comment, i.e., it is not run as code, it's just a note to yourself. Feel free to add your own comments to the code throughout this lab.\n",
    "\n",
    " "
   ]
  },
  {
   "cell_type": "markdown",
   "metadata": {},
   "source": [
    "## Enter your names in the cell below. \n",
    "\n",
    "Then Shift + Enter to run this cell."
   ]
  },
  {
   "cell_type": "code",
   "execution_count": null,
   "metadata": {},
   "outputs": [],
   "source": [
    "#Fill in your names here in place of 'Kira' and 'Tainran'. \n",
    "#Make sure names are surrounded by single quote marks, like 'so'\n",
    "\n",
    "P1 = 'Kira' # Person 1\n",
    "P2 = 'Tianran' # Person 2\n",
    "\n",
    "# Type Shift + Enter to run this cell.\n",
    "\n",
    "print('This lab is being completed by %s and %s' %(P1,P2))"
   ]
  },
  {
   "cell_type": "markdown",
   "metadata": {},
   "source": [
    "In the cell above you asigned words to the variables P1 and P2, then in the print statement you didn't have to type out the names, you could just reference the variables.\n",
    "\n",
    "Variables can be assigned to lists by using square brackets: [  ] \n",
    "\n",
    "Run the cell below."
   ]
  },
  {
   "cell_type": "code",
   "execution_count": null,
   "metadata": {},
   "outputs": [],
   "source": [
    "people = [P1,P2]\n",
    "\n",
    "print(people)\n",
    "\n",
    "rocks = ['shale','sandstone','limestone']\n",
    "\n",
    "print(rocks)"
   ]
  },
  {
   "cell_type": "markdown",
   "metadata": {},
   "source": [
    "You now have two lists of words, and when you print the list \"rocks\" you can see that it is a set of rock names"
   ]
  },
  {
   "cell_type": "markdown",
   "metadata": {},
   "source": [
    "Try one more example, run this cell:"
   ]
  },
  {
   "cell_type": "code",
   "execution_count": null,
   "metadata": {},
   "outputs": [],
   "source": [
    "nouns = ['cats','pounds of glauconite','burritos','quartz crystals']\n",
    "numbers = [3,11,91,4000]\n",
    "\n",
    "print('%s is most excited about the part of this lab where we learn about %s %s.' \n",
    "      %(random.choice(people),random.choice(numbers),random.choice(nouns)))"
   ]
  },
  {
   "cell_type": "markdown",
   "metadata": {},
   "source": [
    "The cell above is randomly selecting a value from each list: people, nouns, and numbers. \n",
    "Run the cell above another time and you should get a different sentence. "
   ]
  },
  {
   "cell_type": "markdown",
   "metadata": {},
   "source": [
    "Now we will move on to the lab. Much of the code is already written for you, but you will have a chance to write some of your own at the end. "
   ]
  },
  {
   "cell_type": "markdown",
   "metadata": {},
   "source": [
    "## Part 1) Import earthquake data and make a map\n",
    "In this lab we will investigate a dataset of earthquakes in New Mexico, recorded between 2010-2014. "
   ]
  },
  {
   "cell_type": "markdown",
   "metadata": {},
   "source": [
    "Shift + Enter to run the cell below"
   ]
  },
  {
   "cell_type": "code",
   "execution_count": 13,
   "metadata": {},
   "outputs": [],
   "source": [
    "#Import earthquake data\n",
    "eq_url = \"https://raw.githubusercontent.com/kgo2105/Earthquake_lab/master/nm_eqs.txt\" #location of text file\n",
    "response = urllib2.urlopen(eq_url)\n",
    "data = np.loadtxt(response, delimiter= '\\t') # Load in this text file, columns are seperated by tabs\n",
    "\n",
    "\n",
    "# Pull out each variable\n",
    "date = [int(row[0]) for row in data] # date is in format yyyymmdd\n",
    "lat = [float(row[1]) for row in data]\n",
    "lon = [row[2] for row in data]\n",
    "depth = [row[3] for row in data]\n",
    "mag = [row[4] for row in data]"
   ]
  },
  {
   "cell_type": "markdown",
   "metadata": {},
   "source": [
    "It is always smart to look at your data before you start working with it, to make sure it includes the kind of data you think it does! "
   ]
  },
  {
   "cell_type": "code",
   "execution_count": null,
   "metadata": {},
   "outputs": [],
   "source": [
    "# Look at data set - run this cell\n",
    "data2 = pandas.DataFrame(data = data, columns = ('Date','lat','lon','depth','mag'))\n",
    "print(data2)\n",
    "\n",
    "\n",
    "# Columns: line number, EQ Date (yyyymmdd), latitude, longidue, depth of EQ in km, magnitude of EQ\n",
    "#Python starts counting at 0 instead of 1"
   ]
  },
  {
   "cell_type": "markdown",
   "metadata": {},
   "source": [
    "You can see that this dataset includes 2603 rows, each of which gives you information about a single earthquake in NM. Scroll to the top to see the column headers. The column on the far left is line number (python starts counting at 0 instead of 1, so the first row is the 0th row)."
   ]
  },
  {
   "cell_type": "markdown",
   "metadata": {},
   "source": [
    "## Import geographic data to draw map\n",
    "Shift + Enter to run the cell"
   ]
  },
  {
   "cell_type": "code",
   "execution_count": 3,
   "metadata": {},
   "outputs": [],
   "source": [
    "# Run this cell to import the topography of NM and set up the map\n",
    "topo_url = \"https://raw.githubusercontent.com/kgo2105/Earthquake_lab/master/etopo1_bedrock.txt\"\n",
    "response = urllib2.urlopen(topo_url)\n",
    "\n",
    "# Read header (number of columns and rows, cell-size, and lower left coordinates)\n",
    "ncols = int(response.readline().split()[1])\n",
    "nrows = int(response.readline().split()[1])\n",
    "xllcorner = float(response.readline().split()[1])\n",
    "yllcorner = float(response.readline().split()[1])\n",
    "cellsize = float(response.readline().split()[1])\n",
    "\n",
    "# Read in topography as a whole, disregarding first five rows (header)\n",
    "etopo = np.loadtxt(response, skiprows = 0)\n",
    "\n",
    "# Data resolution is quite high. I decrease the data resolution \n",
    "# to decrease the size of the final figure\n",
    "dres = 2\n",
    "\n",
    "# Swap the rows\n",
    "etopo[:nrows+1, :] = etopo[nrows+1::-1, :]\n",
    "etopo = etopo[::dres, ::dres]\n",
    "\n",
    "# Create longitude and latitude vectors for etopo\n",
    "lons = np.arange(xllcorner, xllcorner+cellsize*ncols, cellsize)[::dres]\n",
    "lats = np.arange(yllcorner, yllcorner+cellsize*nrows, cellsize)[::dres]"
   ]
  },
  {
   "cell_type": "markdown",
   "metadata": {
    "collapsed": true
   },
   "source": [
    "## Draw a map of New Mexico\n",
    "\n",
    "Shift + Enter to run the cell below"
   ]
  },
  {
   "cell_type": "code",
   "execution_count": null,
   "metadata": {},
   "outputs": [],
   "source": [
    "# 1. Draw the map background\n",
    "fig = plt.figure(figsize=(8, 8))\n",
    "\n",
    "m = Basemap(llcrnrlon=-110.,llcrnrlat=31.,urcrnrlon=-102.,urcrnrlat=37.5,\\\n",
    "            resolution='l',projection='merc',\\\n",
    "            lat_0=40.,lon_0=-20.,lat_ts=20.)\n",
    "\n",
    "# Convert etopo1 coordinates lon/lat in ° to x/y in m\n",
    "# (Calling a Basemap class instance with the arguments\n",
    "# lon, lat will convert lon/lat (in degrees) to x/y map projection coordinates\n",
    "# (in meters).)\n",
    "rlons, rlats = m(*np.meshgrid(lons,lats))\n",
    "\n",
    "# Draw etopo1 to plot topography on a colorscale\n",
    "llevels = np.arange(-100,4100,100) # check etopo.ravel().max()\n",
    "lcs = m.contourf(rlons, rlats, etopo, llevels, cmap=plt.cm.terrain)\n",
    "# olevels = np.arange(-3500,1,100) # check etopo.ravel().min()\n",
    "# cso = m.contourf(rlons, rlats, etopo, olevels, cmap=plt.cm.ocean)\n",
    "\n",
    "# #m.shadedrelief()\n",
    "m.drawparallels(np.arange(30,40,2),labels=[1,0,0,0], color = 'grey')\n",
    "m.drawmeridians(np.arange(-110,-102,2),labels=[0,0,0,1], color = 'grey')\n",
    "m.drawstates(color = 'black', linewidth = 2)\n",
    "m.drawcountries(color='black', linewidth = 2)\n",
    "\n",
    "# Add scale to map\n",
    "m.drawmapscale(-103, 31.5, -106, 32, 100, barstyle='simple', units='km', fontsize=9, yoffset=None, labelstyle='simple', fontcolor='k', fillcolor1='w', fillcolor2='k',format='%d')\n",
    "# m.colorbar(boundaries = [2000,6000])\n",
    "# m.cmap()\n",
    "# cs = m.contourf(x,y,data,clevs,cmap=cm.s3pcpn)\n",
    "# add colorbar.\n",
    "cbar = m.colorbar(lcs,location='right',pad=\"5%\")\n",
    "cbar.set_label('m above sea level')\n",
    "\n",
    "%config InlineBackend.close_figures=False # keep figures open in pyplot"
   ]
  },
  {
   "cell_type": "markdown",
   "metadata": {},
   "source": [
    "Nice! Topography is denoted by the colorscale given on the right. The low topography running from north to south through central NM is called the Rio Grande Rift, and we will discuss this much more on our field trip. "
   ]
  },
  {
   "cell_type": "markdown",
   "metadata": {
    "collapsed": true
   },
   "source": [
    "## Plot earthquakes in NM on the map"
   ]
  },
  {
   "cell_type": "code",
   "execution_count": null,
   "metadata": {},
   "outputs": [],
   "source": [
    "# Shift + Enter to run this cell\n",
    "m.scatter(lon,lat, latlon = True, s = 45, edgecolor = 'black', facecolor = 'blue')"
   ]
  },
  {
   "cell_type": "markdown",
   "metadata": {},
   "source": [
    "## Question 1) Describe any patterns in the seismicity\n",
    "\n",
    "Where are there notable concentrations? Absences? Is there any relationship with topography?\n"
   ]
  },
  {
   "cell_type": "markdown",
   "metadata": {},
   "source": [
    "** Double click the cell below that says \"Type Markdown and LaTeX:  α2\" to type in it. Please write your answers to the questions above in this cell."
   ]
  },
  {
   "cell_type": "markdown",
   "metadata": {},
   "source": []
  },
  {
   "cell_type": "markdown",
   "metadata": {},
   "source": [
    "Once you have typed your answer above, Shift + Enter that cell to \"run\" it and save your answer."
   ]
  },
  {
   "cell_type": "markdown",
   "metadata": {},
   "source": [
    "## The Socorro Seismic Anomaly (SSA) "
   ]
  },
  {
   "cell_type": "markdown",
   "metadata": {},
   "source": [
    "The SSA is an unusual seismic reflector at a depth of ~19 km. Elastic earthquake waves traveling down through the crust reflect off something at ~19 km depth, which indicates that the waves have encountered a material with a different density. This feature is anomolous (or \"strange\") compared to the surrounding crust, and it has been mapped through detailed seismic sturveys. "
   ]
  },
  {
   "cell_type": "markdown",
   "metadata": {},
   "source": [
    "Now plot the outline of the Socorro Seismic Anomaly as a red line by running the cell below."
   ]
  },
  {
   "cell_type": "code",
   "execution_count": null,
   "metadata": {},
   "outputs": [],
   "source": [
    "# Import the coordinates of the Socorro Seismic Anomaly\n",
    "ssa_url = \"https://raw.githubusercontent.com/kgo2105/Earthquake_lab/master/socorro_outline.txt\"\n",
    "response = urllib2.urlopen(ssa_url)\n",
    "ssa = np.loadtxt(response, delimiter= ',')\n",
    "\n",
    "# Coordinates of the Socorro Seismic Anomaly outline\n",
    "ssa_lat = [row[1] for row in ssa]\n",
    "ssa_lon = [row[0] for row in ssa]\n",
    "\n",
    "# Plot \n",
    "m.plot(ssa_lon,ssa_lat, latlon=True, color = 'r', linewidth = 1.5)"
   ]
  },
  {
   "cell_type": "markdown",
   "metadata": {},
   "source": [
    "The large number of earthquakes plotted on the map above make it hard to see if there is a point in the mass of events with an especially high concentration. \n",
    "\n",
    "You can add a color scale so that the region with the most earthquakes stacked on top of each other stands out. Run the cell below. "
   ]
  },
  {
   "cell_type": "code",
   "execution_count": null,
   "metadata": {},
   "outputs": [],
   "source": [
    "xy = np.vstack([lon,lat])\n",
    "z = gaussian_kde(xy)(xy)\n",
    "\n",
    "m.scatter(lon, lat, c = z,latlon = True, s = 45, edgecolor = 'black')\n",
    "m.plot(ssa_lon,ssa_lat, latlon=True, color = 'r', linewidth = 1.5)\n"
   ]
  },
  {
   "cell_type": "markdown",
   "metadata": {},
   "source": [
    "The concentration of earthquakes is now plotted by color, with the highest concentrations being colored yellow and the lowest purple. "
   ]
  },
  {
   "cell_type": "markdown",
   "metadata": {},
   "source": [
    "## Question 2)"
   ]
  },
  {
   "cell_type": "markdown",
   "metadata": {},
   "source": [
    "Comment on the patterns in the seismicity. What is the topography like in the region with the most earthquakes? You can scroll up to see the map without the earthquakes on it. Answer by writing in the cell below (double click to open it)."
   ]
  },
  {
   "cell_type": "markdown",
   "metadata": {},
   "source": []
  },
  {
   "cell_type": "markdown",
   "metadata": {},
   "source": [
    "# Part 2) Investigating earthquake data"
   ]
  },
  {
   "cell_type": "markdown",
   "metadata": {},
   "source": [
    "## Plot the earthquakes from the maps above by depth"
   ]
  },
  {
   "cell_type": "code",
   "execution_count": null,
   "metadata": {},
   "outputs": [],
   "source": [
    "# Run this cell\n",
    "plt.figure()\n",
    "plt.scatter(lon,depth, color = 'blue', edgecolor = 'black')\n",
    "plt.xlabel('Longitude')\n",
    "plt.ylabel('Depth [km]')\n",
    "plt.ylim(20,0)"
   ]
  },
  {
   "cell_type": "markdown",
   "metadata": {},
   "source": [
    "## Weird plot!\n",
    "This is a plot of earthquake depth (on the y-axis) vs. longitude across NM (on the x-axis) - it is basically a cross section of seismicity across the state. Look at the y-axis carefully. There are a lot of earthquakes plotting at a single depth. Run the next plot to examine the depth distribution of earthquakes in this dataset."
   ]
  },
  {
   "cell_type": "code",
   "execution_count": null,
   "metadata": {},
   "outputs": [],
   "source": [
    "# Run this cell\n",
    "plt.figure()\n",
    "bins = np.arange(0.5,21.5,1)\n",
    "h = plt.hist(depth, bins = bins, edgecolor = 'k', align = 'mid')\n",
    "plt.ylabel('Number of earthquakes')\n",
    "plt.xlabel('Depth [km]')\n",
    "plt.xlim(0,21)"
   ]
  },
  {
   "cell_type": "markdown",
   "metadata": {},
   "source": [
    "This is a histogram of the number of events at any given depth. Is it feasible that the majority of earthquakes all occurred at depths of exactly 5.0 km? Natural systems contain much more scatter than that. If you see something like this in your dataset you should be suspicious! "
   ]
  },
  {
   "cell_type": "markdown",
   "metadata": {},
   "source": [
    "## Earthquakes in this dataset are assigned depths of 5.0 km when the depth cannot be determined. These 5.0 km depths are not accurate. "
   ]
  },
  {
   "cell_type": "markdown",
   "metadata": {
    "collapsed": true
   },
   "source": [
    "Omit depths = 5 km and replot\n"
   ]
  },
  {
   "cell_type": "code",
   "execution_count": null,
   "metadata": {},
   "outputs": [],
   "source": [
    "# Run this cell - it might take a minute to process\n",
    "fig = plt.figure()\n",
    "ax = fig.add_subplot(111)\n",
    "for i in data:\n",
    "    if i[3] != 5.0: #does not equal\n",
    "        ax.scatter(i[2],i[3], color = 'blue', edgecolor = 'black')\n",
    "ax.set_ylabel('Depth [km]')\n",
    "ax.set_xlabel('Longitude')\n",
    "ax.set_ylim(30,0)"
   ]
  },
  {
   "cell_type": "markdown",
   "metadata": {},
   "source": [
    "## Question 3) Describe the depth distribution of earthquakes in the dataset.\n"
   ]
  },
  {
   "cell_type": "markdown",
   "metadata": {},
   "source": []
  },
  {
   "cell_type": "markdown",
   "metadata": {},
   "source": [
    "From the plot above, enter your estimate for the lower depth cutoff of seismicity in the cell below (i.e., at what depth do the earthquakes stop) and then run this cell."
   ]
  },
  {
   "cell_type": "code",
   "execution_count": 23,
   "metadata": {},
   "outputs": [],
   "source": [
    "max_eq_depth =      #enter a number here\n",
    "# Shift + Enter to run cell"
   ]
  },
  {
   "cell_type": "code",
   "execution_count": 24,
   "metadata": {},
   "outputs": [
    {
     "data": {
      "text/plain": [
       "<matplotlib.legend.Legend at 0x7fcc30058eb8>"
      ]
     },
     "execution_count": 24,
     "metadata": {},
     "output_type": "execute_result"
    }
   ],
   "source": [
    "# Run this cell\n",
    "\n",
    "ax.axhline(19, color = 'gold', linewidth = 2, zorder = 0, label = 'Balch et al., 1997 depth estimate')\n",
    "ax.axhline(max_eq_depth, color = 'red', linewidth = 2, label = '%s and %s\\'s depth estimate' %(P1,P2))\n",
    "ax.legend(loc = 'lower left')\n",
    "#add legend noting student depth, vs. Balch 97 depth"
   ]
  },
  {
   "cell_type": "markdown",
   "metadata": {},
   "source": [
    "And run the next cell to plot"
   ]
  },
  {
   "cell_type": "code",
   "execution_count": null,
   "metadata": {},
   "outputs": [],
   "source": [
    "# Shift + Enter\n",
    "fig"
   ]
  },
  {
   "cell_type": "markdown",
   "metadata": {},
   "source": [
    "Published studies (e.g., Balch et al., 1997) have estimated the base of the seismicity to be around 19 km depth. It's fine if your estimate is slightly different."
   ]
  },
  {
   "cell_type": "markdown",
   "metadata": {},
   "source": [
    "This distribution of earthquakes is one line of evidence scientists have used to infer that $\\textbf{an active, sill-like magma chamber is causing the Socorro Seismic Anomaly!}$ \n",
    "\n",
    "The magma chamber is known as the Socorro Magma Body (SMB), and is ~150 m thick, and has a lateral extent of ~3,400 km$^2$ (Balch et al., 1997). The volume of magma (molten rock) in the SMB is estimated to be thousands of cubic kilometers."
   ]
  },
  {
   "cell_type": "markdown",
   "metadata": {},
   "source": [
    "The land surface above the SMB is currently undergoing uplift at a rate of ~2 mm/yr, due to continued injection of new magma into the SMB (Larsen et al., 1986). It is thought that this uplift has been ongoing for tens of thousands of years at a similar rate."
   ]
  },
  {
   "cell_type": "markdown",
   "metadata": {},
   "source": [
    "This figure illustrates the inferred geometry of the SMB and seismicity above (figure by Susan Bilek, NM Tech). Red is the magma body, yellow are earthquakes, and towns in NM are plotted as red dots.\n",
    "![title](smb1.png)"
   ]
  },
  {
   "cell_type": "markdown",
   "metadata": {},
   "source": [
    "## Question 4) Given the geometry in the figure above, and what you know about the three types of earthquakes, which type or types of earthquake do you think dominate the swarm above the SMB? What kind of stress environment is the crust just above the SMB experiencing (compressional or extensional)? \n",
    "\n",
    "These earthquakes are occuring as a direct result of the SMB inflating."
   ]
  },
  {
   "cell_type": "markdown",
   "metadata": {},
   "source": []
  },
  {
   "cell_type": "markdown",
   "metadata": {},
   "source": [
    "# Plot by date"
   ]
  },
  {
   "cell_type": "code",
   "execution_count": 30,
   "metadata": {},
   "outputs": [],
   "source": [
    "# Format dates - run this cell\n",
    "ymd = [] #stands for year, month, day\n",
    "for i in range(len(date)):\n",
    "    ymd.append(datetime.datetime.strptime(str(date[i]),'%Y%m%d'))"
   ]
  },
  {
   "cell_type": "markdown",
   "metadata": {},
   "source": [
    "Your turn to make some figures. Start by making a scatter plot of earthquake magnitude (on the y-axis) vs. time (on the x-axis) by following the directions below."
   ]
  },
  {
   "cell_type": "markdown",
   "metadata": {},
   "source": [
    "To make the plot, you will need to specify the x and y variables (the values that will plot on the x- and y-axes), which in this case are time and magnitude, respectively."
   ]
  },
  {
   "cell_type": "markdown",
   "metadata": {},
   "source": [
    "In the cell below, type: x = ymd, then Shift + Enter to run this cell (which defines your new variable: x"
   ]
  },
  {
   "cell_type": "code",
   "execution_count": 31,
   "metadata": {},
   "outputs": [],
   "source": []
  },
  {
   "cell_type": "markdown",
   "metadata": {},
   "source": [
    "'ymd' stands for Year, Month, Day, which is how these dates are formatted (i.e., 2014,1,15). Run the cell below to print out the first 10 values of your variable 'x'. Each item in this list is a date formatted in a specific way for python to read."
   ]
  },
  {
   "cell_type": "code",
   "execution_count": null,
   "metadata": {},
   "outputs": [],
   "source": [
    "print(x[0:10])"
   ]
  },
  {
   "cell_type": "markdown",
   "metadata": {},
   "source": [
    "Now define the y variable, earthquake magnitude, by entering in the cell below: y = mag, then Shift + Enter to run the cell"
   ]
  },
  {
   "cell_type": "code",
   "execution_count": 33,
   "metadata": {},
   "outputs": [],
   "source": []
  },
  {
   "cell_type": "markdown",
   "metadata": {},
   "source": [
    "Run the cell below to print out the first 10 values of this new variable to look at. Each number is the magnitude for one earthquake."
   ]
  },
  {
   "cell_type": "code",
   "execution_count": null,
   "metadata": {},
   "outputs": [],
   "source": [
    "print(y[0:10])"
   ]
  },
  {
   "cell_type": "markdown",
   "metadata": {},
   "source": [
    "Now you will make a plot of earthquake magnitude vs. time. Modify the values in the cell below to set up your plot."
   ]
  },
  {
   "cell_type": "markdown",
   "metadata": {},
   "source": [
    "Here are some colors you can use to change the appearance of your plot:\n",
    "![title](py_colors.jpeg)"
   ]
  },
  {
   "cell_type": "code",
   "execution_count": null,
   "metadata": {},
   "outputs": [],
   "source": [
    "# Edit the variables below to change the appearance of this plot, then Shift + Enter to run this cell\n",
    "\n",
    "# Color of the dots on your scatter plot\n",
    "facecolor = 'blue' #change 'blue' to another color from the list above. Make sure the color name is within 'quotes'. \n",
    "\n",
    "# Color of the dots' edges\n",
    "edgecolor = 'palevioletred' #change this to another color, too\n",
    "\n",
    "# Color of the plot's background\n",
    "background_color = 'gold'\n",
    "\n",
    "\n",
    "\n",
    "\n",
    "\n",
    "\n",
    "####### Do not modify below here #######\n",
    "# Make a scatter plot of earthquake magnitude on the y-axis vs. time on the x-axis.\n",
    "# ymd is the variable containing a list of all earthquake dates\n",
    "# mag is the variable containing a list of all earthquake magnitudes\n",
    "# Run this cell to plot the figure with the specifications you have given above. \n",
    "\n",
    "\n",
    "fig = plt.figure() #this defines a new figure\n",
    "\n",
    "plt.scatter(x,y, edgecolor = edgecolor ,color = facecolor, s = 100) # x , y should be the variables you want to plot on those axes\n",
    "\n",
    "# plt.scatter(ymd,mag, edgecolor = 'black',color = 'blue') # the \n",
    "\n",
    "# plt.xlim(2009,2013)\n",
    "plt.xlim(datetime.datetime(2009, 10, 1),datetime.datetime(2014, 2, 28))\n",
    "plt.xticks(rotation = 45)\n",
    "ax = plt.gca()\n",
    "ax.set_facecolor(background_color)"
   ]
  },
  {
   "cell_type": "markdown",
   "metadata": {},
   "source": [
    "Want to change your color scheme? Go back and edit the colors you chose in the cell above and then run that cell."
   ]
  },
  {
   "cell_type": "markdown",
   "metadata": {},
   "source": [
    "Now add text labeling the x- and y-axes"
   ]
  },
  {
   "cell_type": "code",
   "execution_count": null,
   "metadata": {},
   "outputs": [],
   "source": [
    "plt.ylabel('') # Add an appropriate label for the y-axis. Words must be within 'quotes'\n",
    "plt.xlabel('') # Label the x-axis\n",
    "\n",
    "fig # this line plots the figure"
   ]
  },
  {
   "cell_type": "markdown",
   "metadata": {},
   "source": [
    "## Question 5) Describe any notable patterns in the temporal evolution of seismicty. \n",
    "\n",
    "Would you expect the number of earthquakes to remain constant over time, or not? Speculate as to the cause of any times with a particularly high number of earthquakes. (The gap in earthquakes in late 2012 was due to instrument failure, so earthquakes likely happened, they just weren't recorded. You can ignore this period.)"
   ]
  },
  {
   "cell_type": "markdown",
   "metadata": {},
   "source": []
  },
  {
   "cell_type": "markdown",
   "metadata": {},
   "source": [
    "Make one last figure. This one will be a histogram showing the distribution of earthquakes with a given magnitude (i.e., are there lots of big earthquakes? Are they all small?)"
   ]
  },
  {
   "cell_type": "markdown",
   "metadata": {},
   "source": [
    "Set up the colors for this plot in the cell below. "
   ]
  },
  {
   "cell_type": "code",
   "execution_count": null,
   "metadata": {},
   "outputs": [],
   "source": [
    "facecolor = '' #add a color here\n",
    "\n",
    "edgecolor = '' #add a color here\n",
    "\n",
    "background_color = '' #add a color here\n",
    "\n",
    "\n",
    "\n",
    "\n",
    "\n",
    "\n",
    "##### Do not modify below here ####\n",
    "\n",
    "plt.figure()\n",
    "bins = np.arange(-2,5,0.5)\n",
    "plt.hist(mag, bins = bins, edgecolor = edgecolor, color = facecolor, align = 'mid' )\n",
    "\n",
    "ax = plt.gca()\n",
    "ax.set_facecolor(background_color)\n",
    "\n",
    "plt.xlabel('Earthquake Magnitdue')\n",
    "plt.ylabel('Number of Earthquakes')"
   ]
  },
  {
   "cell_type": "markdown",
   "metadata": {},
   "source": [
    "This plot shows you how many earthqukaes occurred in our dataset with a given magnitude. Notice that there are some earthquakes with magnitude less than 1! This is because the data are given according to the Moment Magnitude scale, rather than a system like the Richter scale. Because Moment Magnitude is physics based, it can handle the extremely small earthquakes that modern instruments record, and you end up with magnitude values less than 1 (and even negative values)."
   ]
  },
  {
   "cell_type": "markdown",
   "metadata": {},
   "source": [
    "## Question 6: Describe the distribution of magnitudes shown in your histogram\n",
    "\n",
    "What is the most common magnitude range represented in this data set? Does this make sense, or not? Explain how the magnitude distribution fits with what you know about the tectonic setting and the types of earthquakes that offen occur in such a setting. I.e., would you have expected very large earthquakes in this setting?"
   ]
  },
  {
   "cell_type": "markdown",
   "metadata": {},
   "source": []
  },
  {
   "cell_type": "markdown",
   "metadata": {},
   "source": [
    "## You've completed this lab. \n",
    "\n",
    "Nice job. "
   ]
  },
  {
   "cell_type": "markdown",
   "metadata": {},
   "source": [
    "Here's what you need to do to save your work:\n",
    "\n",
    "1) Make sure all of the cells where you typed text answers have been run. Do this by typing Shift + Enter in each one.\n",
    "\n",
    "2) Download this lab to your computer as follows:\n",
    "\n",
    "Under the File menu in the upper left select 'Download as', and then 'HTML (.html)'. Your file will download to your computer.\n",
    "\n",
    "3) Rename the file you just downloaded so that it includes both students' names. Email the .html file to Kira."
   ]
  },
  {
   "cell_type": "markdown",
   "metadata": {},
   "source": [
    "## Check with Kira before you leave to ensure that your lab is saved correctly!"
   ]
  }
 ],
 "metadata": {
  "kernelspec": {
   "display_name": "Python 3",
   "language": "python",
   "name": "python3"
  },
  "language_info": {
   "codemirror_mode": {
    "name": "ipython",
    "version": 3
   },
   "file_extension": ".py",
   "mimetype": "text/x-python",
   "name": "python",
   "nbconvert_exporter": "python",
   "pygments_lexer": "ipython3",
   "version": "3.5.4"
  }
 },
 "nbformat": 4,
 "nbformat_minor": 2
}
